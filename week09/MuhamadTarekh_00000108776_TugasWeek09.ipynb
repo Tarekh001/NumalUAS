{
 "cells": [
  {
   "cell_type": "code",
   "execution_count": null,
   "id": "3d7ed27b",
   "metadata": {},
   "outputs": [
    {
     "name": "stdout",
     "output_type": "stream",
     "text": [
      "estimate1 = 1.4142135623746899\n",
      "sqrt(2) = 1.4142135623730951\n"
     ]
    }
   ],
   "source": [
    "import numpy as np\n",
    "\n",
    "def my_nth_root(x, N, tol, y): #x sebage parameter bisa juga y, N, tol\n",
    "    if abs(y**N - x) <= tol:\n",
    "        return y\n",
    "    else:\n",
    "        y = y - (y**N - x) / (N * y**(N - 1))\n",
    "        return my_nth_root(x, N, tol, y)\n",
    "\n",
    "#TEST CASE 1 \n",
    "estimate = my_nth_root(2, 2, 1e-6, 2) #x ama y = 2 karena sama dan parameternya ada 4\n",
    "print(\"estimate1 =\", estimate)\n",
    "print(\"sqrt(2) =\", np.sqrt(2))"
   ]
  },
  {
   "cell_type": "code",
   "execution_count": null,
   "id": "f6d0fa1f",
   "metadata": {},
   "outputs": [],
   "source": []
  }
 ],
 "metadata": {
  "kernelspec": {
   "display_name": "Python 3 (ipykernel)",
   "language": "python",
   "name": "python3"
  }
 },
 "nbformat": 4,
 "nbformat_minor": 5
}
